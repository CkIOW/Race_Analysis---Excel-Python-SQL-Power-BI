{
 "cells": [
  {
   "cell_type": "code",
   "execution_count": 2,
   "id": "801b0f07",
   "metadata": {},
   "outputs": [],
   "source": [
    "import pandas as pd\n",
    "from geopy.geocoders import Nominatim\n",
    "from geopy.exc import GeocoderTimedOut\n",
    "from geopy.extra.rate_limiter import RateLimiter"
   ]
  },
  {
   "cell_type": "code",
   "execution_count": 3,
   "id": "4d1b8366",
   "metadata": {},
   "outputs": [],
   "source": [
    "df = pd.read_csv('Race_data.csv')"
   ]
  },
  {
   "cell_type": "code",
   "execution_count": 4,
   "id": "40c54ab5",
   "metadata": {},
   "outputs": [],
   "source": [
    "df = df.dropna(axis=1)"
   ]
  },
  {
   "cell_type": "code",
   "execution_count": 6,
   "id": "4afdd879",
   "metadata": {},
   "outputs": [
    {
     "data": {
      "text/html": [
       "<div>\n",
       "<style scoped>\n",
       "    .dataframe tbody tr th:only-of-type {\n",
       "        vertical-align: middle;\n",
       "    }\n",
       "\n",
       "    .dataframe tbody tr th {\n",
       "        vertical-align: top;\n",
       "    }\n",
       "\n",
       "    .dataframe thead th {\n",
       "        text-align: right;\n",
       "    }\n",
       "</style>\n",
       "<table border=\"1\" class=\"dataframe\">\n",
       "  <thead>\n",
       "    <tr style=\"text-align: right;\">\n",
       "      <th></th>\n",
       "      <th>Place</th>\n",
       "      <th>First</th>\n",
       "      <th>Last</th>\n",
       "      <th>City</th>\n",
       "      <th>State</th>\n",
       "      <th>Age</th>\n",
       "      <th>Division</th>\n",
       "      <th>Time</th>\n",
       "    </tr>\n",
       "  </thead>\n",
       "  <tbody>\n",
       "    <tr>\n",
       "      <th>0</th>\n",
       "      <td>1</td>\n",
       "      <td>Daniel</td>\n",
       "      <td>Wilson</td>\n",
       "      <td>Tulsa</td>\n",
       "      <td>OK</td>\n",
       "      <td>35</td>\n",
       "      <td>M</td>\n",
       "      <td>8:23:01</td>\n",
       "    </tr>\n",
       "    <tr>\n",
       "      <th>1</th>\n",
       "      <td>2</td>\n",
       "      <td>Eric</td>\n",
       "      <td>Davis</td>\n",
       "      <td>Greenwood</td>\n",
       "      <td>IN</td>\n",
       "      <td>38</td>\n",
       "      <td>M</td>\n",
       "      <td>8:57:54</td>\n",
       "    </tr>\n",
       "    <tr>\n",
       "      <th>2</th>\n",
       "      <td>3</td>\n",
       "      <td>Stewart</td>\n",
       "      <td>Edwards</td>\n",
       "      <td>New Smyrna Beach</td>\n",
       "      <td>FL</td>\n",
       "      <td>43</td>\n",
       "      <td>M</td>\n",
       "      <td>9:24:35</td>\n",
       "    </tr>\n",
       "    <tr>\n",
       "      <th>3</th>\n",
       "      <td>4</td>\n",
       "      <td>Ron</td>\n",
       "      <td>Hammett</td>\n",
       "      <td>Montverde</td>\n",
       "      <td>FL</td>\n",
       "      <td>53</td>\n",
       "      <td>M</td>\n",
       "      <td>9:24:36</td>\n",
       "    </tr>\n",
       "    <tr>\n",
       "      <th>4</th>\n",
       "      <td>5</td>\n",
       "      <td>Seth</td>\n",
       "      <td>Cain</td>\n",
       "      <td>Geneva</td>\n",
       "      <td>FL</td>\n",
       "      <td>44</td>\n",
       "      <td>M</td>\n",
       "      <td>9:42:17</td>\n",
       "    </tr>\n",
       "  </tbody>\n",
       "</table>\n",
       "</div>"
      ],
      "text/plain": [
       "   Place    First     Last              City State  Age Division     Time\n",
       "0      1   Daniel   Wilson             Tulsa    OK   35        M  8:23:01\n",
       "1      2     Eric    Davis         Greenwood    IN   38        M  8:57:54\n",
       "2      3  Stewart  Edwards  New Smyrna Beach    FL   43        M  9:24:35\n",
       "3      4      Ron  Hammett         Montverde    FL   53        M  9:24:36\n",
       "4      5     Seth     Cain            Geneva    FL   44        M  9:42:17"
      ]
     },
     "execution_count": 6,
     "metadata": {},
     "output_type": "execute_result"
    }
   ],
   "source": [
    "df.head()"
   ]
  },
  {
   "cell_type": "code",
   "execution_count": 8,
   "id": "14555f40",
   "metadata": {},
   "outputs": [
    {
     "data": {
      "text/plain": [
       "(108, 8)"
      ]
     },
     "execution_count": 8,
     "metadata": {},
     "output_type": "execute_result"
    }
   ],
   "source": [
    "df.shape"
   ]
  },
  {
   "cell_type": "code",
   "execution_count": 9,
   "id": "79db07a9",
   "metadata": {},
   "outputs": [
    {
     "data": {
      "text/plain": [
       "0      False\n",
       "1      False\n",
       "2      False\n",
       "3      False\n",
       "4      False\n",
       "       ...  \n",
       "103    False\n",
       "104    False\n",
       "105    False\n",
       "106    False\n",
       "107    False\n",
       "Length: 108, dtype: bool"
      ]
     },
     "execution_count": 9,
     "metadata": {},
     "output_type": "execute_result"
    }
   ],
   "source": [
    "df.duplicated()"
   ]
  },
  {
   "cell_type": "code",
   "execution_count": 11,
   "id": "61a3eb4a",
   "metadata": {},
   "outputs": [
    {
     "data": {
      "text/plain": [
       "Place       0.0\n",
       "First       0.0\n",
       "Last        0.0\n",
       "City        0.0\n",
       "State       0.0\n",
       "Age         0.0\n",
       "Division    0.0\n",
       "Time        0.0\n",
       "dtype: float64"
      ]
     },
     "execution_count": 11,
     "metadata": {},
     "output_type": "execute_result"
    }
   ],
   "source": [
    "df.isnull().sum()/df.shape[0]*100"
   ]
  },
  {
   "cell_type": "code",
   "execution_count": 12,
   "id": "85bdb01f",
   "metadata": {},
   "outputs": [],
   "source": [
    "df['Fullname'] = df['First']  + ' ' + df['Last']"
   ]
  },
  {
   "cell_type": "code",
   "execution_count": 13,
   "id": "c3c31148",
   "metadata": {},
   "outputs": [
    {
     "data": {
      "text/html": [
       "<div>\n",
       "<style scoped>\n",
       "    .dataframe tbody tr th:only-of-type {\n",
       "        vertical-align: middle;\n",
       "    }\n",
       "\n",
       "    .dataframe tbody tr th {\n",
       "        vertical-align: top;\n",
       "    }\n",
       "\n",
       "    .dataframe thead th {\n",
       "        text-align: right;\n",
       "    }\n",
       "</style>\n",
       "<table border=\"1\" class=\"dataframe\">\n",
       "  <thead>\n",
       "    <tr style=\"text-align: right;\">\n",
       "      <th></th>\n",
       "      <th>Place</th>\n",
       "      <th>First</th>\n",
       "      <th>Last</th>\n",
       "      <th>City</th>\n",
       "      <th>State</th>\n",
       "      <th>Age</th>\n",
       "      <th>Division</th>\n",
       "      <th>Time</th>\n",
       "      <th>Fullname</th>\n",
       "    </tr>\n",
       "  </thead>\n",
       "  <tbody>\n",
       "    <tr>\n",
       "      <th>0</th>\n",
       "      <td>1</td>\n",
       "      <td>Daniel</td>\n",
       "      <td>Wilson</td>\n",
       "      <td>Tulsa</td>\n",
       "      <td>OK</td>\n",
       "      <td>35</td>\n",
       "      <td>M</td>\n",
       "      <td>8:23:01</td>\n",
       "      <td>Daniel Wilson</td>\n",
       "    </tr>\n",
       "    <tr>\n",
       "      <th>1</th>\n",
       "      <td>2</td>\n",
       "      <td>Eric</td>\n",
       "      <td>Davis</td>\n",
       "      <td>Greenwood</td>\n",
       "      <td>IN</td>\n",
       "      <td>38</td>\n",
       "      <td>M</td>\n",
       "      <td>8:57:54</td>\n",
       "      <td>Eric Davis</td>\n",
       "    </tr>\n",
       "    <tr>\n",
       "      <th>2</th>\n",
       "      <td>3</td>\n",
       "      <td>Stewart</td>\n",
       "      <td>Edwards</td>\n",
       "      <td>New Smyrna Beach</td>\n",
       "      <td>FL</td>\n",
       "      <td>43</td>\n",
       "      <td>M</td>\n",
       "      <td>9:24:35</td>\n",
       "      <td>Stewart Edwards</td>\n",
       "    </tr>\n",
       "    <tr>\n",
       "      <th>3</th>\n",
       "      <td>4</td>\n",
       "      <td>Ron</td>\n",
       "      <td>Hammett</td>\n",
       "      <td>Montverde</td>\n",
       "      <td>FL</td>\n",
       "      <td>53</td>\n",
       "      <td>M</td>\n",
       "      <td>9:24:36</td>\n",
       "      <td>Ron Hammett</td>\n",
       "    </tr>\n",
       "    <tr>\n",
       "      <th>4</th>\n",
       "      <td>5</td>\n",
       "      <td>Seth</td>\n",
       "      <td>Cain</td>\n",
       "      <td>Geneva</td>\n",
       "      <td>FL</td>\n",
       "      <td>44</td>\n",
       "      <td>M</td>\n",
       "      <td>9:42:17</td>\n",
       "      <td>Seth Cain</td>\n",
       "    </tr>\n",
       "  </tbody>\n",
       "</table>\n",
       "</div>"
      ],
      "text/plain": [
       "   Place    First     Last              City State  Age Division     Time  \\\n",
       "0      1   Daniel   Wilson             Tulsa    OK   35        M  8:23:01   \n",
       "1      2     Eric    Davis         Greenwood    IN   38        M  8:57:54   \n",
       "2      3  Stewart  Edwards  New Smyrna Beach    FL   43        M  9:24:35   \n",
       "3      4      Ron  Hammett         Montverde    FL   53        M  9:24:36   \n",
       "4      5     Seth     Cain            Geneva    FL   44        M  9:42:17   \n",
       "\n",
       "          Fullname  \n",
       "0    Daniel Wilson  \n",
       "1       Eric Davis  \n",
       "2  Stewart Edwards  \n",
       "3      Ron Hammett  \n",
       "4        Seth Cain  "
      ]
     },
     "execution_count": 13,
     "metadata": {},
     "output_type": "execute_result"
    }
   ],
   "source": [
    "df.head()"
   ]
  },
  {
   "cell_type": "code",
   "execution_count": 15,
   "id": "ecf3cdbc",
   "metadata": {},
   "outputs": [],
   "source": [
    "df['Time'] = pd.to_timedelta(df['Time'])"
   ]
  },
  {
   "cell_type": "code",
   "execution_count": 18,
   "id": "319f319c",
   "metadata": {},
   "outputs": [],
   "source": [
    "df['Total_Minutes'] = df['Time'].dt.total_seconds() / 60\n",
    "df['Total_Minutes'] = df['Total_Minutes'].round().astype(int)"
   ]
  },
  {
   "cell_type": "code",
   "execution_count": 19,
   "id": "412d63a3",
   "metadata": {},
   "outputs": [],
   "source": [
    "df.rename(columns={'Division':'Gender'}, inplace=True)"
   ]
  },
  {
   "cell_type": "code",
   "execution_count": 20,
   "id": "9c31430d",
   "metadata": {},
   "outputs": [],
   "source": [
    "def get_lat_long(city, state):\n",
    "    address = f\"{city}, {state}\"\n",
    "    try:\n",
    "        geolocator = Nominatim(user_agent=\"running\", timeout=10)\n",
    "        location = geolocator.geocode(address)\n",
    "        if location:\n",
    "            return location.latitude, location.longitude\n",
    "        else:\n",
    "            return None, None\n",
    "    except GeocoderTimedOut:\n",
    "        return None, None"
   ]
  },
  {
   "cell_type": "code",
   "execution_count": 23,
   "id": "1541f522",
   "metadata": {},
   "outputs": [],
   "source": [
    "df['latitude'], df['longitude'] = zip(*df.apply(lambda x: get_lat_long(x['City'], x['State']), axis=1))"
   ]
  },
  {
   "cell_type": "code",
   "execution_count": 24,
   "id": "838299dc",
   "metadata": {},
   "outputs": [],
   "source": [
    "df['latlong'] = df['latitude'].astype(str) + ' , ' + df['longitude'].astype(str)"
   ]
  },
  {
   "cell_type": "code",
   "execution_count": 25,
   "id": "4d36021c",
   "metadata": {},
   "outputs": [
    {
     "data": {
      "text/html": [
       "<div>\n",
       "<style scoped>\n",
       "    .dataframe tbody tr th:only-of-type {\n",
       "        vertical-align: middle;\n",
       "    }\n",
       "\n",
       "    .dataframe tbody tr th {\n",
       "        vertical-align: top;\n",
       "    }\n",
       "\n",
       "    .dataframe thead th {\n",
       "        text-align: right;\n",
       "    }\n",
       "</style>\n",
       "<table border=\"1\" class=\"dataframe\">\n",
       "  <thead>\n",
       "    <tr style=\"text-align: right;\">\n",
       "      <th></th>\n",
       "      <th>Place</th>\n",
       "      <th>First</th>\n",
       "      <th>Last</th>\n",
       "      <th>City</th>\n",
       "      <th>State</th>\n",
       "      <th>Age</th>\n",
       "      <th>Gender</th>\n",
       "      <th>Time</th>\n",
       "      <th>Fullname</th>\n",
       "      <th>Total_Minutes</th>\n",
       "      <th>latitude</th>\n",
       "      <th>longitude</th>\n",
       "      <th>latlong</th>\n",
       "    </tr>\n",
       "  </thead>\n",
       "  <tbody>\n",
       "    <tr>\n",
       "      <th>0</th>\n",
       "      <td>1</td>\n",
       "      <td>Daniel</td>\n",
       "      <td>Wilson</td>\n",
       "      <td>Tulsa</td>\n",
       "      <td>OK</td>\n",
       "      <td>35</td>\n",
       "      <td>M</td>\n",
       "      <td>0 days 08:23:01</td>\n",
       "      <td>Daniel Wilson</td>\n",
       "      <td>503</td>\n",
       "      <td>36.156312</td>\n",
       "      <td>-95.992752</td>\n",
       "      <td>36.1563122 , -95.9927516</td>\n",
       "    </tr>\n",
       "    <tr>\n",
       "      <th>1</th>\n",
       "      <td>2</td>\n",
       "      <td>Eric</td>\n",
       "      <td>Davis</td>\n",
       "      <td>Greenwood</td>\n",
       "      <td>IN</td>\n",
       "      <td>38</td>\n",
       "      <td>M</td>\n",
       "      <td>0 days 08:57:54</td>\n",
       "      <td>Eric Davis</td>\n",
       "      <td>538</td>\n",
       "      <td>39.613699</td>\n",
       "      <td>-86.109543</td>\n",
       "      <td>39.6136987 , -86.1095429</td>\n",
       "    </tr>\n",
       "    <tr>\n",
       "      <th>2</th>\n",
       "      <td>3</td>\n",
       "      <td>Stewart</td>\n",
       "      <td>Edwards</td>\n",
       "      <td>New Smyrna Beach</td>\n",
       "      <td>FL</td>\n",
       "      <td>43</td>\n",
       "      <td>M</td>\n",
       "      <td>0 days 09:24:35</td>\n",
       "      <td>Stewart Edwards</td>\n",
       "      <td>565</td>\n",
       "      <td>29.025813</td>\n",
       "      <td>-80.927127</td>\n",
       "      <td>29.0258132 , -80.9271271</td>\n",
       "    </tr>\n",
       "    <tr>\n",
       "      <th>3</th>\n",
       "      <td>4</td>\n",
       "      <td>Ron</td>\n",
       "      <td>Hammett</td>\n",
       "      <td>Montverde</td>\n",
       "      <td>FL</td>\n",
       "      <td>53</td>\n",
       "      <td>M</td>\n",
       "      <td>0 days 09:24:36</td>\n",
       "      <td>Ron Hammett</td>\n",
       "      <td>565</td>\n",
       "      <td>28.600277</td>\n",
       "      <td>-81.673964</td>\n",
       "      <td>28.6002769 , -81.673964</td>\n",
       "    </tr>\n",
       "    <tr>\n",
       "      <th>4</th>\n",
       "      <td>5</td>\n",
       "      <td>Seth</td>\n",
       "      <td>Cain</td>\n",
       "      <td>Geneva</td>\n",
       "      <td>FL</td>\n",
       "      <td>44</td>\n",
       "      <td>M</td>\n",
       "      <td>0 days 09:42:17</td>\n",
       "      <td>Seth Cain</td>\n",
       "      <td>582</td>\n",
       "      <td>28.739716</td>\n",
       "      <td>-81.115062</td>\n",
       "      <td>28.7397163 , -81.1150616</td>\n",
       "    </tr>\n",
       "  </tbody>\n",
       "</table>\n",
       "</div>"
      ],
      "text/plain": [
       "   Place    First     Last              City State  Age Gender  \\\n",
       "0      1   Daniel   Wilson             Tulsa    OK   35      M   \n",
       "1      2     Eric    Davis         Greenwood    IN   38      M   \n",
       "2      3  Stewart  Edwards  New Smyrna Beach    FL   43      M   \n",
       "3      4      Ron  Hammett         Montverde    FL   53      M   \n",
       "4      5     Seth     Cain            Geneva    FL   44      M   \n",
       "\n",
       "             Time         Fullname  Total_Minutes   latitude  longitude  \\\n",
       "0 0 days 08:23:01    Daniel Wilson            503  36.156312 -95.992752   \n",
       "1 0 days 08:57:54       Eric Davis            538  39.613699 -86.109543   \n",
       "2 0 days 09:24:35  Stewart Edwards            565  29.025813 -80.927127   \n",
       "3 0 days 09:24:36      Ron Hammett            565  28.600277 -81.673964   \n",
       "4 0 days 09:42:17        Seth Cain            582  28.739716 -81.115062   \n",
       "\n",
       "                    latlong  \n",
       "0  36.1563122 , -95.9927516  \n",
       "1  39.6136987 , -86.1095429  \n",
       "2  29.0258132 , -80.9271271  \n",
       "3   28.6002769 , -81.673964  \n",
       "4  28.7397163 , -81.1150616  "
      ]
     },
     "execution_count": 25,
     "metadata": {},
     "output_type": "execute_result"
    }
   ],
   "source": [
    "df.head()"
   ]
  },
  {
   "cell_type": "code",
   "execution_count": 26,
   "id": "77490178",
   "metadata": {},
   "outputs": [],
   "source": [
    "import warnings\n",
    "warnings.filterwarnings(\"ignore\")"
   ]
  },
  {
   "cell_type": "code",
   "execution_count": 30,
   "id": "b39e3748",
   "metadata": {},
   "outputs": [],
   "source": [
    "import seaborn as sns\n",
    "import matplotlib.pyplot as plt"
   ]
  },
  {
   "cell_type": "code",
   "execution_count": 28,
   "id": "e1ceb1f8",
   "metadata": {},
   "outputs": [],
   "source": [
    "corelation = df.corr(numeric_only =True)"
   ]
  },
  {
   "cell_type": "code",
   "execution_count": 33,
   "id": "235e464e",
   "metadata": {},
   "outputs": [
    {
     "data": {
      "text/plain": [
       "<Axes: >"
      ]
     },
     "execution_count": 33,
     "metadata": {},
     "output_type": "execute_result"
    },
    {
     "data": {
      "image/png": "[encoded data removed]",
      "text/plain": [
       "<Figure size 600x600 with 2 Axes>"
      ]
     },
     "metadata": {},
     "output_type": "display_data"
    }
   ],
   "source": [
    "plt.figure(figsize=(6,6))\n",
    "sns.heatmap(corelation, xticklabels=corelation.columns, yticklabels=corelation.columns, annot=True)"
   ]
  },
  {
   "cell_type": "code",
   "execution_count": 35,
   "id": "8015d4e8",
   "metadata": {},
   "outputs": [
    {
     "data": {
      "text/plain": [
       "<seaborn.axisgrid.FacetGrid at 0xa8807c9850>"
      ]
     },
     "execution_count": 35,
     "metadata": {},
     "output_type": "execute_result"
    },
    {
     "data": {
      "image/png": "[encoded data removed]",
      "text/plain": [
       "<Figure size 500x500 with 1 Axes>"
      ]
     },
     "metadata": {},
     "output_type": "display_data"
    }
   ],
   "source": [
    "sns.catplot(x='Total_Minutes', kind='box', data=df)"
   ]
  },
  {
   "cell_type": "code",
   "execution_count": 44,
   "id": "4d96810f",
   "metadata": {},
   "outputs": [
    {
     "data": {
      "text/plain": [
       "<Axes: xlabel='Total_Minutes', ylabel='Count'>"
      ]
     },
     "execution_count": 44,
     "metadata": {},
     "output_type": "execute_result"
    },
    {
     "data": {
      "image/png": "[encoded data removed]",
      "text/plain": [
       "<Figure size 640x480 with 1 Axes>"
      ]
     },
     "metadata": {},
     "output_type": "display_data"
    }
   ],
   "source": [
    "sns.histplot(df['Total_Minutes'])"
   ]
  },
  {
   "cell_type": "code",
   "execution_count": 45,
   "id": "8cbff4e5",
   "metadata": {},
   "outputs": [],
   "source": [
    "df.to_csv('Cleaned_Race_data.csv')"
   ]
  },
  {
   "cell_type": "code",
   "execution_count": null,
   "id": "35b0136e",
   "metadata": {},
   "outputs": [],
   "source": []
  }
 ],
 "metadata": {
  "kernelspec": {
   "display_name": "Python 3 (ipykernel)",
   "language": "python",
   "name": "python3"
  },
  "language_info": {
   "codemirror_mode": {
    "name": "ipython",
    "version": 3
   },
   "file_extension": ".py",
   "mimetype": "text/x-python",
   "name": "python",
   "nbconvert_exporter": "python",
   "pygments_lexer": "ipython3",
   "version": "3.11.4"
  }
 },
 "nbformat": 4,
 "nbformat_minor": 5
}
